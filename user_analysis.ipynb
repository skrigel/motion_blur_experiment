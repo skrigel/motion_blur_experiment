{
 "cells": [
  {
   "cell_type": "code",
   "execution_count": 1,
   "id": "a058cbf4",
   "metadata": {},
   "outputs": [],
   "source": [
    "from pymongo import MongoClient\n",
    "import pandas as pd\n",
    "from dotenv import load_dotenv\n",
    "import os\n",
    "\n",
    "# Load variables from .env\n",
    "load_dotenv()\n",
    "\n",
    "# Get the MongoDB URI\n",
    "conn_str = os.getenv(\"MONGO_SRV\")"
   ]
  },
  {
   "cell_type": "code",
   "execution_count": 2,
   "id": "8d1611de",
   "metadata": {},
   "outputs": [],
   "source": [
    "def load_data():\n",
    "    # Connect to MongoDB\n",
    "    client = MongoClient(conn_str)\n",
    "    db = client[\"test\"]          # Replace with your database name\n",
    "    collection = db[\"responses\"] \n",
    "# Load all documents into a DataFrame\n",
    "    data = pd.DataFrame(list(collection.find()))\n",
    "    return data\n",
    "\n",
    "def calculate_overall_correct(data):\n",
    "    # Add a column to check if the answer is correct\n",
    "    data[\"is_correct\"] = (data[\"selection\"] == data[\"trueLabel\"])\n",
    "\n",
    "    # Group by prolificId and count correct answers\n",
    "    correct_counts = data[data[\"is_correct\"]].groupby(\"prolificId\").size().reset_index(name=\"correct_count\")\n",
    "\n",
    "    return correct_counts"
   ]
  },
  {
   "cell_type": "code",
   "execution_count": 3,
   "id": "571410af",
   "metadata": {},
   "outputs": [],
   "source": [
    "data = load_data()"
   ]
  },
  {
   "cell_type": "code",
   "execution_count": 4,
   "id": "3d7a02f8",
   "metadata": {},
   "outputs": [
    {
     "data": {
      "text/plain": [
       "array(['674b35aef9b2ae3dcdd26213', 'unknown'], dtype=object)"
      ]
     },
     "execution_count": 4,
     "metadata": {},
     "output_type": "execute_result"
    }
   ],
   "source": [
    "data[data['rt'].isna()].prolificId.unique()"
   ]
  },
  {
   "cell_type": "code",
   "execution_count": 5,
   "id": "5753bbe7",
   "metadata": {},
   "outputs": [],
   "source": [
    "correct = calculate_overall_correct(data)"
   ]
  },
  {
   "cell_type": "code",
   "execution_count": 6,
   "id": "f6805ace",
   "metadata": {},
   "outputs": [
    {
     "name": "stdout",
     "output_type": "stream",
     "text": [
      "               trialType  correct_count\n",
      "0       motion_direction           1312\n",
      "1  object_identification           1670\n"
     ]
    }
   ],
   "source": [
    "correct_by_trial = (\n",
    "    data[data[\"is_correct\"]]\n",
    "    .groupby(\"trialType\")\n",
    "    .size()\n",
    "    .reset_index(name=\"correct_count\")\n",
    ")\n",
    "print(correct_by_trial)"
   ]
  },
  {
   "cell_type": "code",
   "execution_count": 7,
   "id": "c8fbca88",
   "metadata": {},
   "outputs": [
    {
     "name": "stdout",
     "output_type": "stream",
     "text": [
      "               trialType  accuracy\n",
      "0       motion_direction  0.764123\n",
      "1  object_identification  0.970366\n"
     ]
    }
   ],
   "source": [
    "accuracy_by_trial = (\n",
    "    data.groupby(\"trialType\")[\"is_correct\"]\n",
    "    .mean()\n",
    "    .reset_index(name=\"accuracy\")\n",
    ")\n",
    "print(accuracy_by_trial)"
   ]
  },
  {
   "cell_type": "code",
   "execution_count": 8,
   "id": "e738c175",
   "metadata": {},
   "outputs": [
    {
     "name": "stdout",
     "output_type": "stream",
     "text": [
      "                  prolificId  total_responses  correct_answers  accuracy\n",
      "0   5acb7b0ae1099600016acdd6               80               69  0.862500\n",
      "1   5be12624b08fb60001f5680a               80               71  0.887500\n",
      "2   5cc76f310c352e00161975b4               80               74  0.925000\n",
      "3   60b0ba56f6a2244bbae05690               80               68  0.850000\n",
      "4   60f69afe109d7b0fa70bd044               80               65  0.812500\n",
      "5   647c65c5acb91c89819c7970               80               71  0.887500\n",
      "6   64b4c078aeb3a03a356ce3b2               80               72  0.900000\n",
      "7   6511f1f1490c9df9f8c7890e               80               64  0.800000\n",
      "8   6522a42f39b5bd8f96735aa9               80               68  0.850000\n",
      "9   655652e4d1acd4df9b343078               79               64  0.810127\n",
      "10  65847ecf0896ca006d2c00b7               80               74  0.925000\n",
      "11  65a69ce9c8cf8262d34f646a               80               72  0.900000\n",
      "12  65fade256d70be4d6ea4ecaa               78               65  0.833333\n",
      "13  65fb71b3ec79b34dccc04c76               80               73  0.912500\n",
      "14  66045b87ffe71e6e521f357d               80               70  0.875000\n",
      "15  661564c766603e80ca4c3184               80               75  0.937500\n",
      "16  66196025cdd89ad566b0bf55               77               71  0.922078\n",
      "17  6633e062d1c96548aa5ed45d               80               74  0.925000\n",
      "18  665a9ddb536966183500a7b1               80               75  0.937500\n",
      "19  665dbeafadfb8630f489f1bb               80               70  0.875000\n",
      "20  6698d065dcd67378bbe90125               80               71  0.887500\n",
      "21  66a4f108a03ede09bb40255c               80               65  0.812500\n",
      "22  66aea8fcd9cd711541bf63e5               80               71  0.887500\n",
      "23  66b7c5753ec43b76371aec24               80               72  0.900000\n",
      "24  66bf6fe152dd321cf4a45d1a                2                0  0.000000\n",
      "25  66dec2bd0e180781edc982e7               80               71  0.887500\n",
      "26  66ed3470848a6d95128ef46e               79               63  0.797468\n",
      "27  671255f1554edd8d3ad9a149               80               70  0.875000\n",
      "28  6718b63a1e293387ef30d259               80               72  0.900000\n",
      "29  6719141c7acadf0601ba861f                1                1  1.000000\n",
      "30  6727ea3905ae5d0d2cb5180c               80               73  0.912500\n",
      "31  672a1777f4295db87ec6d5a0               80               69  0.862500\n",
      "32  6747797e245cd6fcc37db13f               80               71  0.887500\n",
      "33  674b35aef9b2ae3dcdd26213               80               40  0.500000\n",
      "34  678bce747d5530210477b8dd               80               70  0.875000\n",
      "35  67c85dbbbfcee2fe6ee37f70               80               72  0.900000\n",
      "36  67c8eac5e82d76f9507e9534               80               67  0.837500\n",
      "37  67cc528cb0e276da0b301463               80               73  0.912500\n",
      "38  67cc634beb5f04f1fa1ed558               80               72  0.900000\n",
      "39  67cf58ee6ae53da5f77f5eb0               80               67  0.837500\n",
      "40  67d087899940d758f2380f3f               80               69  0.862500\n",
      "41  67daefe932556c6d146bf524               77               67  0.870130\n",
      "42  67ee7256170756d58a5bd032               80               70  0.875000\n",
      "43  67f2b1f27c9c5092a7ac8c84               80               69  0.862500\n",
      "44  67f6784e63c8958eba79d3d9               80               72  0.900000\n",
      "45                   unknown                5                0  0.000000\n"
     ]
    }
   ],
   "source": [
    "user_stats = (\n",
    "    data.groupby(\"prolificId\")\n",
    "    .agg(\n",
    "        total_responses=(\"is_correct\", \"count\"),\n",
    "        correct_answers=(\"is_correct\", \"sum\"),\n",
    "        accuracy=(\"is_correct\", \"mean\")\n",
    "    )\n",
    "    .reset_index()\n",
    ")\n",
    "print(user_stats)"
   ]
  },
  {
   "cell_type": "code",
   "execution_count": 9,
   "id": "847d5ffd",
   "metadata": {},
   "outputs": [
    {
     "name": "stdout",
     "output_type": "stream",
     "text": [
      "                  prolificId              trialType  total_responses  \\\n",
      "0   5acb7b0ae1099600016acdd6       motion_direction               40   \n",
      "1   5acb7b0ae1099600016acdd6  object_identification               40   \n",
      "2   5be12624b08fb60001f5680a       motion_direction               40   \n",
      "3   5be12624b08fb60001f5680a  object_identification               40   \n",
      "4   5cc76f310c352e00161975b4       motion_direction               40   \n",
      "..                       ...                    ...              ...   \n",
      "86  67f2b1f27c9c5092a7ac8c84  object_identification               40   \n",
      "87  67f6784e63c8958eba79d3d9       motion_direction               40   \n",
      "88  67f6784e63c8958eba79d3d9  object_identification               40   \n",
      "89                   unknown       motion_direction                2   \n",
      "90                   unknown  object_identification                3   \n",
      "\n",
      "    correct_answers  accuracy  \n",
      "0                29     0.725  \n",
      "1                40     1.000  \n",
      "2                31     0.775  \n",
      "3                40     1.000  \n",
      "4                34     0.850  \n",
      "..              ...       ...  \n",
      "86               37     0.925  \n",
      "87               33     0.825  \n",
      "88               39     0.975  \n",
      "89                0     0.000  \n",
      "90                0     0.000  \n",
      "\n",
      "[91 rows x 5 columns]\n"
     ]
    }
   ],
   "source": [
    "user_stats_by_type = (\n",
    "    data.groupby([\"prolificId\", \"trialType\"])\n",
    "    .agg(\n",
    "        total_responses=(\"is_correct\", \"count\"),\n",
    "        correct_answers=(\"is_correct\", \"sum\"),\n",
    "        accuracy=(\"is_correct\", \"mean\")\n",
    "    )\n",
    "    .reset_index()\n",
    ")\n",
    "print(user_stats_by_type)"
   ]
  },
  {
   "cell_type": "code",
   "execution_count": 12,
   "id": "9a518f5d",
   "metadata": {},
   "outputs": [
    {
     "name": "stdout",
     "output_type": "stream",
     "text": [
      "                  prolificId              trialType    avg_rt\n",
      "0   5acb7b0ae1099600016acdd6       motion_direction  6720.650\n",
      "1   5acb7b0ae1099600016acdd6  object_identification  3616.925\n",
      "2   5be12624b08fb60001f5680a       motion_direction  3866.350\n",
      "3   5be12624b08fb60001f5680a  object_identification  6803.325\n",
      "4   5cc76f310c352e00161975b4       motion_direction  2788.200\n",
      "..                       ...                    ...       ...\n",
      "83  67f2b1f27c9c5092a7ac8c84       motion_direction  4860.975\n",
      "84  67f2b1f27c9c5092a7ac8c84  object_identification  2233.925\n",
      "85  67f6784e63c8958eba79d3d9       motion_direction  6011.675\n",
      "86  67f6784e63c8958eba79d3d9  object_identification  7764.150\n",
      "87                   unknown  object_identification  2479.000\n",
      "\n",
      "[88 rows x 3 columns]\n"
     ]
    },
    {
     "name": "stderr",
     "output_type": "stream",
     "text": [
      "/var/folders/mq/p952ryqs1gv79cnvz9f05slr0000gn/T/ipykernel_12742/1311787591.py:3: SettingWithCopyWarning: \n",
      "A value is trying to be set on a copy of a slice from a DataFrame.\n",
      "Try using .loc[row_indexer,col_indexer] = value instead\n",
      "\n",
      "See the caveats in the documentation: https://pandas.pydata.org/pandas-docs/stable/user_guide/indexing.html#returning-a-view-versus-a-copy\n",
      "  clean_data['rt'] = clean_data['rt'].astype(int)\n"
     ]
    }
   ],
   "source": [
    "# Remove rows with missing rt\n",
    "clean_data = data.dropna(subset=[\"rt\"])\n",
    "clean_data['rt'] = clean_data['rt'].astype(int)\n",
    "\n",
    "# Now group and compute stats\n",
    "avg_rt_by_user_type = (\n",
    "    clean_data.groupby([\"prolificId\", \"trialType\"])\n",
    "    .agg(avg_rt=(\"rt\", \"mean\"))\n",
    "    .reset_index()\n",
    ")\n",
    "\n",
    "print(avg_rt_by_user_type)\n"
   ]
  },
  {
   "cell_type": "code",
   "execution_count": 13,
   "id": "d1e3ab9f",
   "metadata": {},
   "outputs": [
    {
     "data": {
      "text/html": [
       "<div>\n",
       "<style scoped>\n",
       "    .dataframe tbody tr th:only-of-type {\n",
       "        vertical-align: middle;\n",
       "    }\n",
       "\n",
       "    .dataframe tbody tr th {\n",
       "        vertical-align: top;\n",
       "    }\n",
       "\n",
       "    .dataframe thead th {\n",
       "        text-align: right;\n",
       "    }\n",
       "</style>\n",
       "<table border=\"1\" class=\"dataframe\">\n",
       "  <thead>\n",
       "    <tr style=\"text-align: right;\">\n",
       "      <th></th>\n",
       "      <th>prolificId</th>\n",
       "      <th>trialType</th>\n",
       "      <th>avg_rt</th>\n",
       "    </tr>\n",
       "  </thead>\n",
       "  <tbody>\n",
       "    <tr>\n",
       "      <th>0</th>\n",
       "      <td>5acb7b0ae1099600016acdd6</td>\n",
       "      <td>motion_direction</td>\n",
       "      <td>6720.650</td>\n",
       "    </tr>\n",
       "    <tr>\n",
       "      <th>1</th>\n",
       "      <td>5acb7b0ae1099600016acdd6</td>\n",
       "      <td>object_identification</td>\n",
       "      <td>3616.925</td>\n",
       "    </tr>\n",
       "    <tr>\n",
       "      <th>2</th>\n",
       "      <td>5be12624b08fb60001f5680a</td>\n",
       "      <td>motion_direction</td>\n",
       "      <td>3866.350</td>\n",
       "    </tr>\n",
       "    <tr>\n",
       "      <th>3</th>\n",
       "      <td>5be12624b08fb60001f5680a</td>\n",
       "      <td>object_identification</td>\n",
       "      <td>6803.325</td>\n",
       "    </tr>\n",
       "    <tr>\n",
       "      <th>4</th>\n",
       "      <td>5cc76f310c352e00161975b4</td>\n",
       "      <td>motion_direction</td>\n",
       "      <td>2788.200</td>\n",
       "    </tr>\n",
       "    <tr>\n",
       "      <th>...</th>\n",
       "      <td>...</td>\n",
       "      <td>...</td>\n",
       "      <td>...</td>\n",
       "    </tr>\n",
       "    <tr>\n",
       "      <th>83</th>\n",
       "      <td>67f2b1f27c9c5092a7ac8c84</td>\n",
       "      <td>motion_direction</td>\n",
       "      <td>4860.975</td>\n",
       "    </tr>\n",
       "    <tr>\n",
       "      <th>84</th>\n",
       "      <td>67f2b1f27c9c5092a7ac8c84</td>\n",
       "      <td>object_identification</td>\n",
       "      <td>2233.925</td>\n",
       "    </tr>\n",
       "    <tr>\n",
       "      <th>85</th>\n",
       "      <td>67f6784e63c8958eba79d3d9</td>\n",
       "      <td>motion_direction</td>\n",
       "      <td>6011.675</td>\n",
       "    </tr>\n",
       "    <tr>\n",
       "      <th>86</th>\n",
       "      <td>67f6784e63c8958eba79d3d9</td>\n",
       "      <td>object_identification</td>\n",
       "      <td>7764.150</td>\n",
       "    </tr>\n",
       "    <tr>\n",
       "      <th>87</th>\n",
       "      <td>unknown</td>\n",
       "      <td>object_identification</td>\n",
       "      <td>2479.000</td>\n",
       "    </tr>\n",
       "  </tbody>\n",
       "</table>\n",
       "<p>88 rows × 3 columns</p>\n",
       "</div>"
      ],
      "text/plain": [
       "                  prolificId              trialType    avg_rt\n",
       "0   5acb7b0ae1099600016acdd6       motion_direction  6720.650\n",
       "1   5acb7b0ae1099600016acdd6  object_identification  3616.925\n",
       "2   5be12624b08fb60001f5680a       motion_direction  3866.350\n",
       "3   5be12624b08fb60001f5680a  object_identification  6803.325\n",
       "4   5cc76f310c352e00161975b4       motion_direction  2788.200\n",
       "..                       ...                    ...       ...\n",
       "83  67f2b1f27c9c5092a7ac8c84       motion_direction  4860.975\n",
       "84  67f2b1f27c9c5092a7ac8c84  object_identification  2233.925\n",
       "85  67f6784e63c8958eba79d3d9       motion_direction  6011.675\n",
       "86  67f6784e63c8958eba79d3d9  object_identification  7764.150\n",
       "87                   unknown  object_identification  2479.000\n",
       "\n",
       "[88 rows x 3 columns]"
      ]
     },
     "execution_count": 13,
     "metadata": {},
     "output_type": "execute_result"
    }
   ],
   "source": [
    "avg_rt_by_user_type"
   ]
  },
  {
   "cell_type": "code",
   "execution_count": null,
   "id": "3b99471f",
   "metadata": {},
   "outputs": [],
   "source": []
  }
 ],
 "metadata": {
  "kernelspec": {
   "display_name": "base",
   "language": "python",
   "name": "python3"
  },
  "language_info": {
   "codemirror_mode": {
    "name": "ipython",
    "version": 3
   },
   "file_extension": ".py",
   "mimetype": "text/x-python",
   "name": "python",
   "nbconvert_exporter": "python",
   "pygments_lexer": "ipython3",
   "version": "3.12.9"
  }
 },
 "nbformat": 4,
 "nbformat_minor": 5
}
